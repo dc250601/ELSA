{
 "cells": [
  {
   "cell_type": "code",
   "execution_count": 2,
   "id": "fef0bcca-4baa-4d08-afe9-e9b82e94ba9d",
   "metadata": {
    "tags": []
   },
   "outputs": [],
   "source": [
    "import numpy as np\n",
    "import pandas as pd\n",
    "import wandb\n",
    "from tqdm.auto import tqdm\n",
    "import seaborn as sns\n",
    "import matplotlib.pyplot as plt\n",
    "from scipy.stats import gmean\n"
   ]
  },
  {
   "cell_type": "code",
   "execution_count": null,
   "id": "fd31d720-9783-4f6b-974e-866c34cf5776",
   "metadata": {},
   "outputs": [],
   "source": []
  },
  {
   "cell_type": "markdown",
   "id": "3a2b3b6b-feb5-4e4c-bc24-59d829d36055",
   "metadata": {
    "tags": []
   },
   "source": [
    "### ELSA base ---> Spread mSearch + Rands"
   ]
  },
  {
   "cell_type": "code",
   "execution_count": 27,
   "id": "20977e3a-4849-4b0f-a582-840afe1655fa",
   "metadata": {
    "tags": []
   },
   "outputs": [
    {
     "name": "stderr",
     "output_type": "stream",
     "text": [
      "1806it [00:22, 80.17it/s] \n"
     ]
    }
   ],
   "source": [
    "api = wandb.Api()\n",
    "runs = api.runs(path=\"dc250601/ELSA_base_fixed\")\n",
    "\n",
    "df = pd.DataFrame()\n",
    "for i,run in tqdm(enumerate(runs)):\n",
    "    try:\n",
    "        if run.sweep.name == 'main-sweep':\n",
    "            for key in run.config.keys():\n",
    "                df.loc[i,key] = run.config.get(key)\n",
    "            for key in [\"Final Labelling Efficiency\",\"Final Percentage Discovery\"]:\n",
    "                df.loc[i,key] = run.summary.get(key)\n",
    "    #     print(key,run.config.get(key))\n",
    "    except:\n",
    "        continue"
   ]
  },
  {
   "cell_type": "code",
   "execution_count": 29,
   "id": "899f9cfb-10cb-41db-a395-7ce72d9c735b",
   "metadata": {
    "tags": []
   },
   "outputs": [],
   "source": [
    "df=df.dropna()"
   ]
  },
  {
   "cell_type": "code",
   "execution_count": 30,
   "id": "ab35a39e-34e6-48f2-b717-fde0ab36d74c",
   "metadata": {
    "tags": []
   },
   "outputs": [],
   "source": [
    "bt = df[df.algo == \"bt\"]\n",
    "vicreg = df[df.algo == \"vicreg\"]\n",
    "\n",
    "bt_1 = bt[bt.no_seeds == 1]\n",
    "bt_2 = bt[bt.no_seeds == 2]\n",
    "bt_5 = bt[bt.no_seeds == 5]\n",
    "bt_10 = bt[bt.no_seeds == 10]\n",
    "bt_50 = bt[bt.no_seeds == 50]\n",
    "\n",
    "vicreg_1 = vicreg[vicreg.no_seeds == 1]\n",
    "vicreg_2 = vicreg[vicreg.no_seeds== 2]\n",
    "vicreg_5 = vicreg[vicreg.no_seeds== 5]\n",
    "vicreg_10 = vicreg[vicreg.no_seeds == 10]\n",
    "vicreg_50 = vicreg[vicreg.no_seeds == 50]"
   ]
  },
  {
   "cell_type": "code",
   "execution_count": 31,
   "id": "0f36d87f-cd22-4795-b301-0f6101cce11c",
   "metadata": {
    "tags": []
   },
   "outputs": [
    {
     "name": "stdout",
     "output_type": "stream",
     "text": [
      "Seeds ---- > 1\n",
      "Algorithm ---- > VICReg\n",
      "Le 0.12040974101275607\n",
      "Dr 0.8861538461538462\n",
      "Composite 0.3266520398112375\n",
      "=================================================\n",
      "Seeds ---- > 2\n",
      "Algorithm ---- > VICReg\n",
      "Le 0.12054613671363645\n",
      "Dr 0.8819230769230769\n",
      "Composite 0.3260558538067982\n",
      "=================================================\n",
      "Seeds ---- > 5\n",
      "Algorithm ---- > VICReg\n",
      "Le 0.1159952280444159\n",
      "Dr 0.8659392049883087\n",
      "Composite 0.3169303007842877\n",
      "=================================================\n",
      "Seeds ---- > 10\n",
      "Algorithm ---- > VICReg\n",
      "Le 0.11410128193472134\n",
      "Dr 0.8713951675759938\n",
      "Composite 0.31532095663330434\n",
      "=================================================\n",
      "Seeds ---- > 50\n",
      "Algorithm ---- > VICReg\n",
      "Le 0.10588443879407068\n",
      "Dr 0.8969230769230769\n",
      "Composite 0.3081723489241874\n",
      "=================================================\n"
     ]
    }
   ],
   "source": [
    "import numpy as np\n",
    "\n",
    "def print_scores(seeds, algorithm, le, dr):\n",
    "    composite_score = (le * dr) ** 0.5\n",
    "    print(f\"Seeds ---- > {seeds}\")\n",
    "    print(f\"Algorithm ---- > {algorithm}\")\n",
    "    print(\"Le\", le)\n",
    "    print(\"Dr\", dr)\n",
    "    print(\"Composite\", composite_score)\n",
    "    print(\"=================================================\")\n",
    "\n",
    "# # Seed 1\n",
    "# print_scores(1, \"Barlow Twin\", np.median(bt_1[\"Final Labelling Efficiency\"]), np.median(bt_1[\"Final Percentage Discovery\"]))\n",
    "print_scores(1, \"VICReg\", np.median(vicreg_1[\"Final Labelling Efficiency\"]), np.median(vicreg_1[\"Final Percentage Discovery\"]))\n",
    "\n",
    "# # Seed 2\n",
    "# print_scores(2, \"Barlow Twin\", np.median(bt_2[\"Final Labelling Efficiency\"]), np.median(bt_2[\"Final Percentage Discovery\"]))\n",
    "print_scores(2, \"VICReg\", np.median(vicreg_2[\"Final Labelling Efficiency\"]), np.median(vicreg_2[\"Final Percentage Discovery\"]))\n",
    "\n",
    "# # Seed 5\n",
    "# print_scores(5, \"Barlow Twin\", np.median(bt_5[\"Final Labelling Efficiency\"]), np.median(bt_5[\"Final Percentage Discovery\"]))\n",
    "print_scores(5, \"VICReg\", np.median(vicreg_5[\"Final Labelling Efficiency\"]), np.median(vicreg_5[\"Final Percentage Discovery\"]))\n",
    "\n",
    "# # Seed 10\n",
    "# print_scores(10, \"Barlow Twin\", np.median(bt_10[\"Final Labelling Efficiency\"]), np.median(bt_10[\"Final Percentage Discovery\"]))\n",
    "print_scores(10, \"VICReg\", np.median(vicreg_10[\"Final Labelling Efficiency\"]), np.median(vicreg_10[\"Final Percentage Discovery\"]))\n",
    "\n",
    "# # Seed 50\n",
    "# print_scores(50, \"Barlow Twin\", np.median(bt_50[\"Final Labelling Efficiency\"]), np.median(bt_50[\"Final Percentage Discovery\"]))\n",
    "print_scores(50, \"VICReg\", np.median(vicreg_50[\"Final Labelling Efficiency\"]), np.median(vicreg_50[\"Final Percentage Discovery\"]))\n"
   ]
  },
  {
   "cell_type": "code",
   "execution_count": 32,
   "id": "0c671826-2af1-4379-9938-7366a447b992",
   "metadata": {
    "tags": []
   },
   "outputs": [],
   "source": [
    "### ELSA base ---> Spread Search + Rands +NO ACTIVE LEARNING"
   ]
  },
  {
   "cell_type": "code",
   "execution_count": 33,
   "id": "00f90127-461a-44b2-95bb-4a52f917d968",
   "metadata": {},
   "outputs": [
    {
     "name": "stderr",
     "output_type": "stream",
     "text": [
      "2500it [00:39, 62.60it/s] \n"
     ]
    }
   ],
   "source": [
    "api = wandb.Api()\n",
    "runs = api.runs(path=\"dc250601/ELSA_no_ac_fixed\")\n",
    "\n",
    "df = pd.DataFrame()\n",
    "for i,run in tqdm(enumerate(runs)):\n",
    "    try:\n",
    "        if run.sweep.name == 'main-sweep':\n",
    "            for key in run.config.keys():\n",
    "                df.loc[i,key] = run.config.get(key)\n",
    "            for key in [\"Final Labelling Efficiency\",\"Final Percentage Discovery\"]:\n",
    "                df.loc[i,key] = run.summary.get(key)\n",
    "    #     print(key,run.config.get(key))\n",
    "    except:\n",
    "        continue"
   ]
  },
  {
   "cell_type": "code",
   "execution_count": 34,
   "id": "f81eb903-cb2f-4e9b-b685-7ac5a9665a06",
   "metadata": {
    "tags": []
   },
   "outputs": [],
   "source": [
    "df=df.dropna()"
   ]
  },
  {
   "cell_type": "code",
   "execution_count": 35,
   "id": "279b5510-ddeb-4a77-9581-397bf2272dd4",
   "metadata": {
    "tags": []
   },
   "outputs": [],
   "source": [
    "bt = df[df.algo == \"bt\"]\n",
    "vicreg = df[df.algo == \"vicreg\"]\n",
    "\n",
    "bt_1 = bt[bt.no_seeds == 1]\n",
    "bt_2 = bt[bt.no_seeds == 2]\n",
    "bt_5 = bt[bt.no_seeds == 5]\n",
    "bt_10 = bt[bt.no_seeds == 10]\n",
    "bt_50 = bt[bt.no_seeds == 50]\n",
    "\n",
    "vicreg_1 = vicreg[vicreg.no_seeds == 1]\n",
    "vicreg_2 = vicreg[vicreg.no_seeds== 2]\n",
    "vicreg_5 = vicreg[vicreg.no_seeds== 5]\n",
    "vicreg_10 = vicreg[vicreg.no_seeds == 10]\n",
    "vicreg_50 = vicreg[vicreg.no_seeds == 50]"
   ]
  },
  {
   "cell_type": "code",
   "execution_count": 36,
   "id": "4aba2118-c4ab-4414-baa5-1aa641104406",
   "metadata": {
    "tags": []
   },
   "outputs": [
    {
     "name": "stdout",
     "output_type": "stream",
     "text": [
      "Seeds ---- > 1\n",
      "Algorithm ---- > VICReg\n",
      "Le 0.034083442838370566\n",
      "Dr 0.8538461538461538\n",
      "Composite 0.17059313168289614\n",
      "=================================================\n",
      "Seeds ---- > 2\n",
      "Algorithm ---- > VICReg\n",
      "Le 0.03520665545377573\n",
      "Dr 0.8815384615384616\n",
      "Composite 0.1761704313573539\n",
      "=================================================\n",
      "Seeds ---- > 5\n",
      "Algorithm ---- > VICReg\n",
      "Le 0.0338107639692513\n",
      "Dr 0.8842307692307693\n",
      "Composite 0.1729060954183254\n",
      "=================================================\n",
      "Seeds ---- > 10\n",
      "Algorithm ---- > VICReg\n",
      "Le 0.03395283176186234\n",
      "Dr 0.8915384615384616\n",
      "Composite 0.17398349172793656\n",
      "=================================================\n",
      "Seeds ---- > 50\n",
      "Algorithm ---- > VICReg\n",
      "Le 0.02829547660648418\n",
      "Dr 0.9353846153846154\n",
      "Composite 0.16268728746488026\n",
      "=================================================\n"
     ]
    }
   ],
   "source": [
    "import numpy as np\n",
    "\n",
    "def print_scores(seeds, algorithm, le, dr):\n",
    "    composite_score = (le * dr) ** 0.5\n",
    "    print(f\"Seeds ---- > {seeds}\")\n",
    "    print(f\"Algorithm ---- > {algorithm}\")\n",
    "    print(\"Le\", le)\n",
    "    print(\"Dr\", dr)\n",
    "    print(\"Composite\", composite_score)\n",
    "    print(\"=================================================\")\n",
    "\n",
    "# # Seed 1\n",
    "# print_scores(1, \"Barlow Twin\", np.median(bt_1[\"Final Labelling Efficiency\"]), np.median(bt_1[\"Final Percentage Discovery\"]))\n",
    "print_scores(1, \"VICReg\", np.median(vicreg_1[\"Final Labelling Efficiency\"]), np.median(vicreg_1[\"Final Percentage Discovery\"]))\n",
    "\n",
    "# # Seed 2\n",
    "# print_scores(2, \"Barlow Twin\", np.median(bt_2[\"Final Labelling Efficiency\"]), np.median(bt_2[\"Final Percentage Discovery\"]))\n",
    "print_scores(2, \"VICReg\", np.median(vicreg_2[\"Final Labelling Efficiency\"]), np.median(vicreg_2[\"Final Percentage Discovery\"]))\n",
    "\n",
    "# # Seed 5\n",
    "# print_scores(5, \"Barlow Twin\", np.median(bt_5[\"Final Labelling Efficiency\"]), np.median(bt_5[\"Final Percentage Discovery\"]))\n",
    "print_scores(5, \"VICReg\", np.median(vicreg_5[\"Final Labelling Efficiency\"]), np.median(vicreg_5[\"Final Percentage Discovery\"]))\n",
    "\n",
    "# # Seed 10\n",
    "# print_scores(10, \"Barlow Twin\", np.median(bt_10[\"Final Labelling Efficiency\"]), np.median(bt_10[\"Final Percentage Discovery\"]))\n",
    "print_scores(10, \"VICReg\", np.median(vicreg_10[\"Final Labelling Efficiency\"]), np.median(vicreg_10[\"Final Percentage Discovery\"]))\n",
    "\n",
    "# # Seed 50\n",
    "# print_scores(50, \"Barlow Twin\", np.median(bt_50[\"Final Labelling Efficiency\"]), np.median(bt_50[\"Final Percentage Discovery\"]))\n",
    "print_scores(50, \"VICReg\", np.median(vicreg_50[\"Final Labelling Efficiency\"]), np.median(vicreg_50[\"Final Percentage Discovery\"]))\n"
   ]
  },
  {
   "cell_type": "markdown",
   "id": "f924a975-dbca-4a56-9d7a-001b3d7623dd",
   "metadata": {
    "tags": []
   },
   "source": [
    "### ELSA 2 COMPONENT"
   ]
  },
  {
   "cell_type": "code",
   "execution_count": 37,
   "id": "1f6cc5c5-e832-4045-af8f-4ae46e0ad910",
   "metadata": {
    "tags": []
   },
   "outputs": [
    {
     "name": "stderr",
     "output_type": "stream",
     "text": [
      "1250it [00:15, 78.30it/s] \n"
     ]
    }
   ],
   "source": [
    "api = wandb.Api()\n",
    "runs = api.runs(path=\"dc250601/ELSAC_fixed\")\n",
    "\n",
    "df = pd.DataFrame()\n",
    "for i,run in tqdm(enumerate(runs)):\n",
    "    try:\n",
    "        if run.sweep.name == 'main-sweep2':\n",
    "            for key in run.config.keys():\n",
    "                df.loc[i,key] = run.config.get(key)\n",
    "            for key in [\"Final Labelling Efficiency\",\"Final Percentage Discovery\"]:\n",
    "                df.loc[i,key] = run.summary.get(key)\n",
    "    #     print(key,run.config.get(key))\n",
    "    except:\n",
    "        continue"
   ]
  },
  {
   "cell_type": "code",
   "execution_count": 38,
   "id": "1f3f7376-379f-479a-8047-03d71eb73322",
   "metadata": {
    "tags": []
   },
   "outputs": [],
   "source": [
    "df=df.dropna()"
   ]
  },
  {
   "cell_type": "code",
   "execution_count": 39,
   "id": "d736559d-6e24-400a-8ef3-d52c0b4749d3",
   "metadata": {
    "tags": []
   },
   "outputs": [],
   "source": [
    "vicreg = df[df.algo == \"vicreg\"]\n",
    "\n",
    "vicreg_1 = vicreg[vicreg.no_seeds == 1]\n",
    "vicreg_2 = vicreg[vicreg.no_seeds== 2]\n",
    "vicreg_5 = vicreg[vicreg.no_seeds== 5]\n",
    "vicreg_10 = vicreg[vicreg.no_seeds == 10]\n",
    "vicreg_50 = vicreg[vicreg.no_seeds == 50]"
   ]
  },
  {
   "cell_type": "code",
   "execution_count": 40,
   "id": "cd4f4c3a-cddf-4cd0-87ae-dfa427b786dd",
   "metadata": {
    "tags": []
   },
   "outputs": [
    {
     "name": "stdout",
     "output_type": "stream",
     "text": [
      "Seeds ---- > 1\n",
      "Algorithm ---- > VICReg\n",
      "Le 0.09934634294288144\n",
      "Dr 0.8803846153846153\n",
      "Composite 0.2957414274693973\n",
      "=================================================\n",
      "Seeds ---- > 2\n",
      "Algorithm ---- > VICReg\n",
      "Le 0.0967525625311022\n",
      "Dr 0.868225041571719\n",
      "Composite 0.28983270627335445\n",
      "=================================================\n",
      "Seeds ---- > 5\n",
      "Algorithm ---- > VICReg\n",
      "Le 0.0913350644770904\n",
      "Dr 0.8680769230769231\n",
      "Composite 0.28157745247143817\n",
      "=================================================\n",
      "Seeds ---- > 10\n",
      "Algorithm ---- > VICReg\n",
      "Le 0.0889448772254076\n",
      "Dr 0.874179507164698\n",
      "Composite 0.27884366397272037\n",
      "=================================================\n",
      "Seeds ---- > 50\n",
      "Algorithm ---- > VICReg\n",
      "Le 0.0718354066708683\n",
      "Dr 0.91\n",
      "Composite 0.255676006051585\n",
      "=================================================\n"
     ]
    }
   ],
   "source": [
    "import numpy as np\n",
    "\n",
    "def print_scores(seeds, algorithm, le, dr):\n",
    "    composite_score = (le * dr) ** 0.5\n",
    "    print(f\"Seeds ---- > {seeds}\")\n",
    "    print(f\"Algorithm ---- > {algorithm}\")\n",
    "    print(\"Le\", le)\n",
    "    print(\"Dr\", dr)\n",
    "    print(\"Composite\", composite_score)\n",
    "    print(\"=================================================\")\n",
    "\n",
    "print_scores(1, \"VICReg\", np.median(vicreg_1[\"Final Labelling Efficiency\"]), np.median(vicreg_1[\"Final Percentage Discovery\"]))\n",
    "print_scores(2, \"VICReg\", np.median(vicreg_2[\"Final Labelling Efficiency\"]), np.median(vicreg_2[\"Final Percentage Discovery\"]))\n",
    "print_scores(5, \"VICReg\", np.median(vicreg_5[\"Final Labelling Efficiency\"]), np.median(vicreg_5[\"Final Percentage Discovery\"]))\n",
    "print_scores(10, \"VICReg\", np.median(vicreg_10[\"Final Labelling Efficiency\"]), np.median(vicreg_10[\"Final Percentage Discovery\"]))\n",
    "print_scores(50, \"VICReg\", np.median(vicreg_50[\"Final Labelling Efficiency\"]), np.median(vicreg_50[\"Final Percentage Discovery\"]))\n"
   ]
  },
  {
   "cell_type": "code",
   "execution_count": null,
   "id": "fba38438-4777-4206-82d3-44ef6be71ce5",
   "metadata": {},
   "outputs": [],
   "source": []
  }
 ],
 "metadata": {
  "kernelspec": {
   "display_name": "work_conda",
   "language": "python",
   "name": "work_conda"
  },
  "language_info": {
   "codemirror_mode": {
    "name": "ipython",
    "version": 3
   },
   "file_extension": ".py",
   "mimetype": "text/x-python",
   "name": "python",
   "nbconvert_exporter": "python",
   "pygments_lexer": "ipython3",
   "version": "3.9.18"
  }
 },
 "nbformat": 4,
 "nbformat_minor": 5
}
